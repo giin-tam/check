{
 "cells": [
  {
   "cell_type": "code",
   "execution_count": null,
   "id": "1a70db91",
   "metadata": {},
   "outputs": [],
   "source": [
    "def my(a,b,c):\n",
    "    if b<=a and c<=a :\n",
    "        return (print(a))\n",
    "    elif a<=b and c<=b :\n",
    "        return(print(b))\n",
    "    elif a<=c and b<=c:\n",
    "        return print (c)\n",
    "    else :\n",
    "        return(print(a))\n",
    "my(a=int(input(\"put number\")),b=int(input(\"put number\")),c=int(input(\"put number\"))) "
   ]
  },
  {
   "cell_type": "code",
   "execution_count": null,
   "id": "a41e5a56",
   "metadata": {},
   "outputs": [],
   "source": [
    "def fun(a,b) :\n",
    "    x=a+b\n",
    "    y=a-b\n",
    "    return (print(x,y))\n",
    "fun(a=int(input(\"put number\")),b=int(input(\"put number\"))) \n"
   ]
  },
  {
   "cell_type": "code",
   "execution_count": null,
   "id": "f3d474ce",
   "metadata": {},
   "outputs": [],
   "source": [
    "list=[]\n",
    "n=int(input(\"put ur list lenght\"))\n",
    "for i in range(n):\n",
    "    print(\"put ur items\")\n",
    "    f=int(input())\n",
    "    list.append(f)\n",
    "def l(x):\n",
    "    for i in range (n):\n",
    "        x=x+list[i]\n",
    "    return(print(x))\n",
    "l(x=0)\n",
    "def k(x):\n",
    "    for i in range (n):\n",
    "        x=x*list[i]\n",
    "    return(print(x))\n",
    "k(x=1)\n",
    "def f(x):\n",
    "    \n",
    "    for i in range (n):\n",
    "        q=i//2\n",
    "        if  i==q*2 :\n",
    "            x=x+list[i]\n",
    "    return(print(x))\n",
    "f(x=0)\n",
    "def g(x) :   \n",
    "    \n",
    "    for i in range (n):\n",
    "        q=i//2\n",
    "        if  i!=q*2 :\n",
    "            x=x*list[i]\n",
    "    return(print(x))\n",
    "    \n",
    "g(x=1)"
   ]
  },
  {
   "cell_type": "code",
   "execution_count": 7,
   "id": "73e3c05c",
   "metadata": {},
   "outputs": [
    {
     "name": "stdout",
     "output_type": "stream",
     "text": [
      "put ur list lenght3\n",
      "put ur list words\n",
      "red\n",
      "put ur list words\n",
      "yellow\n",
      "put ur list words\n",
      "green\n",
      "['green', 'red', 'yellow']\n"
     ]
    }
   ],
   "source": [
    "list =[]\n",
    "n=int(input(\"put ur list lenght\"))\n",
    "for i in range(n):\n",
    "    print(\"put ur list words\")\n",
    "    x=input()\n",
    "    list.append(x)\n",
    "list.sort()    \n",
    "print(list) \n"
   ]
  },
  {
   "cell_type": "code",
   "execution_count": 11,
   "id": "4f22a39b",
   "metadata": {},
   "outputs": [
    {
     "name": "stdout",
     "output_type": "stream",
     "text": [
      "put number150\n",
      "22\n"
     ]
    }
   ],
   "source": [
    "import math\n",
    "def l(H,D,C):\n",
    "    Q=((2*C*D)/H)\n",
    "    return(print(int(math.sqrt(Q))))\n",
    "l(D=int(input(\"put number\")),H=30,C=50)"
   ]
  },
  {
   "cell_type": "code",
   "execution_count": null,
   "id": "3489be10",
   "metadata": {},
   "outputs": [],
   "source": []
  }
 ],
 "metadata": {
  "kernelspec": {
   "display_name": "Python 3 (ipykernel)",
   "language": "python",
   "name": "python3"
  },
  "language_info": {
   "codemirror_mode": {
    "name": "ipython",
    "version": 3
   },
   "file_extension": ".py",
   "mimetype": "text/x-python",
   "name": "python",
   "nbconvert_exporter": "python",
   "pygments_lexer": "ipython3",
   "version": "3.9.12"
  }
 },
 "nbformat": 4,
 "nbformat_minor": 5
}
